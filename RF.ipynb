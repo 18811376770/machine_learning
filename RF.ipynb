{
 "cells": [
  {
   "cell_type": "code",
   "execution_count": 1,
   "metadata": {
    "collapsed": true
   },
   "outputs": [],
   "source": [
    "# Required Python Packages\n",
    "import pandas as pd\n",
    "from sklearn.model_selection import train_test_split\n",
    "from sklearn.ensemble import RandomForestClassifier\n",
    "from sklearn.metrics import accuracy_score\n",
    "from sklearn.metrics import confusion_matrix"
   ]
  },
  {
   "cell_type": "code",
   "execution_count": 2,
   "metadata": {
    "collapsed": true
   },
   "outputs": [],
   "source": [
    "# File Path\n",
    "INPUT_PATH = \"PythonData/breast-cancer-wisconsin.data\""
   ]
  },
  {
   "cell_type": "code",
   "execution_count": 3,
   "metadata": {
    "collapsed": true
   },
   "outputs": [],
   "source": [
    "# Headers \n",
    "headers = [\"CodeNumber\", \"ClumpThickness\", \"UniformityCellSize\", \"UniformityCellShape\", \"MarginalAdhesion\",\n",
    "               \"SingleEpithelialCellSize\", \"BareNuclei\", \"BlandChromatin\", \"NormalNucleoli\", \"Mitoses\",\n",
    "               \"CancerType\"]"
   ]
  },
  {
   "cell_type": "code",
   "execution_count": 19,
   "metadata": {
    "collapsed": true
   },
   "outputs": [],
   "source": [
    "# Load the dataset into Pandas data frame\n",
    "dataset = pd.read_csv(INPUT_PATH)"
   ]
  },
  {
   "cell_type": "code",
   "execution_count": 20,
   "metadata": {
    "collapsed": true
   },
   "outputs": [],
   "source": [
    "# Add the headers to the loaded dataset\n",
    "dataset.columns = headers"
   ]
  },
  {
   "cell_type": "code",
   "execution_count": 23,
   "metadata": {},
   "outputs": [
    {
     "name": "stdout",
     "output_type": "stream",
     "text": [
      "         CodeNumber  ClumpThickness  UniformityCellSize  UniformityCellShape  \\\n",
      "count  6.980000e+02      698.000000          698.000000           698.000000   \n",
      "mean   1.071807e+06        4.416905            3.137536             3.210602   \n",
      "std    6.175323e+05        2.817673            3.052575             2.972867   \n",
      "min    6.163400e+04        1.000000            1.000000             1.000000   \n",
      "25%    8.702582e+05        2.000000            1.000000             1.000000   \n",
      "50%    1.171710e+06        4.000000            1.000000             1.000000   \n",
      "75%    1.238354e+06        6.000000            5.000000             5.000000   \n",
      "max    1.345435e+07       10.000000           10.000000            10.000000   \n",
      "\n",
      "       MarginalAdhesion  SingleEpithelialCellSize  BlandChromatin  \\\n",
      "count        698.000000                698.000000      698.000000   \n",
      "mean           2.809456                  3.217765        3.438395   \n",
      "std            2.856606                  2.215408        2.440056   \n",
      "min            1.000000                  1.000000        1.000000   \n",
      "25%            1.000000                  2.000000        2.000000   \n",
      "50%            1.000000                  2.000000        3.000000   \n",
      "75%            4.000000                  4.000000        5.000000   \n",
      "max           10.000000                 10.000000       10.000000   \n",
      "\n",
      "       NormalNucleoli     Mitoses  CancerType  \n",
      "count      698.000000  698.000000  698.000000  \n",
      "mean         2.869628    1.590258    2.690544  \n",
      "std          3.055004    1.716162    0.951596  \n",
      "min          1.000000    1.000000    2.000000  \n",
      "25%          1.000000    1.000000    2.000000  \n",
      "50%          1.000000    1.000000    2.000000  \n",
      "75%          4.000000    1.000000    4.000000  \n",
      "max         10.000000   10.000000    4.000000  \n"
     ]
    }
   ],
   "source": [
    " # This function simply prints out the descriptive stats for the dataset\n",
    "print(dataset.describe())"
   ]
  },
  {
   "cell_type": "code",
   "execution_count": 24,
   "metadata": {
    "collapsed": true
   },
   "outputs": [],
   "source": [
    "# We are missing values in the BareNuclie field - this command will remove those records\n",
    "dataset = dataset[dataset[headers[6]] != '?']"
   ]
  },
  {
   "cell_type": "code",
   "execution_count": 25,
   "metadata": {},
   "outputs": [
    {
     "name": "stdout",
     "output_type": "stream",
     "text": [
      "         CodeNumber  ClumpThickness  UniformityCellSize  UniformityCellShape  \\\n",
      "count  6.820000e+02      682.000000          682.000000           682.000000   \n",
      "mean   1.076833e+06        4.441349            3.153959             3.218475   \n",
      "std    6.210926e+05        2.822751            3.066285             2.989568   \n",
      "min    6.337500e+04        1.000000            1.000000             1.000000   \n",
      "25%    8.774540e+05        2.000000            1.000000             1.000000   \n",
      "50%    1.171820e+06        4.000000            1.000000             1.000000   \n",
      "75%    1.238741e+06        6.000000            5.000000             5.000000   \n",
      "max    1.345435e+07       10.000000           10.000000            10.000000   \n",
      "\n",
      "       MarginalAdhesion  SingleEpithelialCellSize  BlandChromatin  \\\n",
      "count        682.000000                682.000000      682.000000   \n",
      "mean           2.832845                  3.236070        3.445748   \n",
      "std            2.865805                  2.224214        2.451435   \n",
      "min            1.000000                  1.000000        1.000000   \n",
      "25%            1.000000                  2.000000        2.000000   \n",
      "50%            1.000000                  2.000000        3.000000   \n",
      "75%            4.000000                  4.000000        5.000000   \n",
      "max           10.000000                 10.000000       10.000000   \n",
      "\n",
      "       NormalNucleoli     Mitoses  CancerType  \n",
      "count      682.000000  682.000000  682.000000  \n",
      "mean         2.872434    1.604106    2.700880  \n",
      "std          3.054065    1.733792    0.954916  \n",
      "min          1.000000    1.000000    2.000000  \n",
      "25%          1.000000    1.000000    2.000000  \n",
      "50%          1.000000    1.000000    2.000000  \n",
      "75%          4.000000    1.000000    4.000000  \n",
      "max         10.000000   10.000000    4.000000  \n"
     ]
    }
   ],
   "source": [
    "print(dataset.describe())"
   ]
  },
  {
   "cell_type": "code",
   "execution_count": 27,
   "metadata": {},
   "outputs": [
    {
     "name": "stderr",
     "output_type": "stream",
     "text": [
      "C:\\Users\\wjs130130\\AppData\\Local\\Continuum\\anaconda3\\lib\\site-packages\\sklearn\\model_selection\\_split.py:2026: FutureWarning: From version 0.21, test_size will always complement train_size unless both are specified.\n",
      "  FutureWarning)\n"
     ]
    }
   ],
   "source": [
    " # Split dataset into train and test dataset\n",
    "train_x, test_x, train_y, test_y = train_test_split(dataset[headers[1:-1]], dataset[headers[-1]],\n",
    "                                                        train_size=0.7)"
   ]
  },
  {
   "cell_type": "code",
   "execution_count": 28,
   "metadata": {},
   "outputs": [
    {
     "name": "stdout",
     "output_type": "stream",
     "text": [
      "Train_x Shape ::  (477, 9)\n",
      "Train_y Shape ::  (477,)\n",
      "Test_x Shape ::  (205, 9)\n",
      "Test_y Shape ::  (205,)\n"
     ]
    }
   ],
   "source": [
    "# Train and Test dataset size details\n",
    "print( \"Train_x Shape :: \", train_x.shape)\n",
    "print( \"Train_y Shape :: \", train_y.shape)\n",
    "print( \"Test_x Shape :: \", test_x.shape)\n",
    "print( \"Test_y Shape :: \", test_y.shape)"
   ]
  },
  {
   "cell_type": "code",
   "execution_count": 30,
   "metadata": {
    "collapsed": true
   },
   "outputs": [],
   "source": [
    "# Here we create the Random Forest Classifier\n",
    "  \n",
    "clf = RandomForestClassifier()\n",
    "trained_model = clf.fit(train_x, train_y)"
   ]
  },
  {
   "cell_type": "code",
   "execution_count": 31,
   "metadata": {},
   "outputs": [
    {
     "name": "stdout",
     "output_type": "stream",
     "text": [
      "Trained model ::  RandomForestClassifier(bootstrap=True, class_weight=None, criterion='gini',\n",
      "            max_depth=None, max_features='auto', max_leaf_nodes=None,\n",
      "            min_impurity_decrease=0.0, min_impurity_split=None,\n",
      "            min_samples_leaf=1, min_samples_split=2,\n",
      "            min_weight_fraction_leaf=0.0, n_estimators=10, n_jobs=1,\n",
      "            oob_score=False, random_state=None, verbose=0,\n",
      "            warm_start=False)\n"
     ]
    }
   ],
   "source": [
    "print( \"Trained model :: \", trained_model)"
   ]
  },
  {
   "cell_type": "code",
   "execution_count": 32,
   "metadata": {
    "collapsed": true
   },
   "outputs": [],
   "source": [
    "# Check accuracy on test set\n",
    "predictions = trained_model.predict(test_x)"
   ]
  },
  {
   "cell_type": "code",
   "execution_count": 33,
   "metadata": {},
   "outputs": [
    {
     "name": "stdout",
     "output_type": "stream",
     "text": [
      "Train Accuracy ::  1.0\n",
      "Test Accuracy  ::  0.941463414634\n"
     ]
    }
   ],
   "source": [
    "print( \"Train Accuracy :: \", accuracy_score(train_y, trained_model.predict(train_x)))\n",
    "print( \"Test Accuracy  :: \", accuracy_score(test_y, predictions))"
   ]
  },
  {
   "cell_type": "code",
   "execution_count": 34,
   "metadata": {},
   "outputs": [
    {
     "name": "stdout",
     "output_type": "stream",
     "text": [
      " Confusion matrix  [[125   8]\n",
      " [  4  68]]\n"
     ]
    }
   ],
   "source": [
    "print( \" Confusion matrix \", confusion_matrix(test_y, predictions))"
   ]
  },
  {
   "cell_type": "code",
   "execution_count": 1,
   "metadata": {
    "collapsed": true
   },
   "outputs": [],
   "source": [
    "# Here is another dataset included in sklearn\n",
    "from sklearn.datasets import load_wine"
   ]
  },
  {
   "cell_type": "code",
   "execution_count": 2,
   "metadata": {
    "collapsed": true
   },
   "outputs": [],
   "source": [
    "# We load the dataset ...\n",
    "wine = load_wine()"
   ]
  },
  {
   "cell_type": "code",
   "execution_count": null,
   "metadata": {
    "collapsed": true
   },
   "outputs": [],
   "source": []
  }
 ],
 "metadata": {
  "kernelspec": {
   "display_name": "Python 3",
   "language": "python",
   "name": "python3"
  },
  "language_info": {
   "codemirror_mode": {
    "name": "ipython",
    "version": 3
   },
   "file_extension": ".py",
   "mimetype": "text/x-python",
   "name": "python",
   "nbconvert_exporter": "python",
   "pygments_lexer": "ipython3",
   "version": "3.6.3"
  }
 },
 "nbformat": 4,
 "nbformat_minor": 2
}
