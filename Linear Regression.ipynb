{
 "cells": [
  {
   "cell_type": "code",
   "execution_count": 1,
   "metadata": {
    "collapsed": true
   },
   "outputs": [],
   "source": [
    "# Packages we will use\n",
    "import matplotlib.pyplot as plt\n",
    "import numpy as np\n",
    "from sklearn import datasets, linear_model\n",
    "from sklearn.metrics import mean_squared_error, r2_score\n",
    "from sklearn.model_selection import train_test_split"
   ]
  },
  {
   "cell_type": "code",
   "execution_count": 2,
   "metadata": {
    "collapsed": true
   },
   "outputs": [],
   "source": [
    "# Load the diabetes dataset\n",
    "diabetes = datasets.load_diabetes()"
   ]
  },
  {
   "cell_type": "code",
   "execution_count": 3,
   "metadata": {},
   "outputs": [
    {
     "name": "stdout",
     "output_type": "stream",
     "text": [
      "[[ 0.03807591  0.05068012  0.06169621  0.02187235 -0.0442235  -0.03482076\n",
      "  -0.04340085 -0.00259226  0.01990842 -0.01764613]\n",
      " [-0.00188202 -0.04464164 -0.05147406 -0.02632783 -0.00844872 -0.01916334\n",
      "   0.07441156 -0.03949338 -0.06832974 -0.09220405]]\n"
     ]
    }
   ],
   "source": [
    "print(diabetes.data[0:2])"
   ]
  },
  {
   "cell_type": "code",
   "execution_count": 4,
   "metadata": {
    "collapsed": true
   },
   "outputs": [],
   "source": [
    "# First we will just use one variable as a predictor\n",
    "diabetes_X = diabetes.data[:,2:3]"
   ]
  },
  {
   "cell_type": "code",
   "execution_count": 5,
   "metadata": {},
   "outputs": [
    {
     "name": "stdout",
     "output_type": "stream",
     "text": [
      "[[ 0.06169621]\n",
      " [-0.05147406]]\n"
     ]
    }
   ],
   "source": [
    "print(diabetes_X[0:2])"
   ]
  },
  {
   "cell_type": "code",
   "execution_count": 6,
   "metadata": {},
   "outputs": [
    {
     "name": "stdout",
     "output_type": "stream",
     "text": [
      "[ 151.   75.  141.  206.  135.]\n"
     ]
    }
   ],
   "source": [
    "print(diabetes.target[0:5])"
   ]
  },
  {
   "cell_type": "code",
   "execution_count": 7,
   "metadata": {
    "collapsed": true
   },
   "outputs": [],
   "source": [
    "# We split the dataset into Train and Test sets\n",
    "train_x, test_x, train_y, test_y = train_test_split(diabetes_X, diabetes.target,\n",
    "                                                        test_size=0.25)"
   ]
  },
  {
   "cell_type": "code",
   "execution_count": 8,
   "metadata": {
    "collapsed": true
   },
   "outputs": [],
   "source": [
    "# Create linear regression object\n",
    "regr = linear_model.LinearRegression()"
   ]
  },
  {
   "cell_type": "code",
   "execution_count": 9,
   "metadata": {},
   "outputs": [
    {
     "data": {
      "text/plain": [
       "LinearRegression(copy_X=True, fit_intercept=True, n_jobs=1, normalize=False)"
      ]
     },
     "execution_count": 9,
     "metadata": {},
     "output_type": "execute_result"
    }
   ],
   "source": [
    "# Train the model using the training sets\n",
    "regr.fit(train_x, train_y)"
   ]
  },
  {
   "cell_type": "code",
   "execution_count": 10,
   "metadata": {
    "collapsed": true
   },
   "outputs": [],
   "source": [
    "# Make predictions using the testing set\n",
    "diabetes_y_pred = regr.predict(test_x)"
   ]
  },
  {
   "cell_type": "code",
   "execution_count": 11,
   "metadata": {},
   "outputs": [
    {
     "name": "stdout",
     "output_type": "stream",
     "text": [
      "Coefficients: \n",
      " [ 942.46507222]\n",
      "Mean squared error: 3562.45\n",
      "Variance score: 0.36\n"
     ]
    }
   ],
   "source": [
    "# Let's check the results ...\n",
    "# The coefficients\n",
    "print('Coefficients: \\n', regr.coef_)\n",
    "# The mean squared error\n",
    "print(\"Mean squared error: %.2f\"\n",
    "      % mean_squared_error(test_y, diabetes_y_pred))\n",
    "# Explained variance score: 1 is perfect prediction\n",
    "print('Variance score: %.2f' % r2_score(test_y, diabetes_y_pred))"
   ]
  },
  {
   "cell_type": "code",
   "execution_count": 12,
   "metadata": {},
   "outputs": [
    {
     "data": {
      "image/png": "[encoded data removed]",
      "text/plain": [
       "<matplotlib.figure.Figure at 0x1ef7e1e0e80>"
      ]
     },
     "metadata": {},
     "output_type": "display_data"
    }
   ],
   "source": [
    "# Plot outputs\n",
    "plt.scatter(test_x, test_y,  color='black')\n",
    "plt.plot(test_x, diabetes_y_pred, color='blue', linewidth=3)\n",
    "\n",
    "plt.xticks(())\n",
    "plt.yticks(())\n",
    "\n",
    "plt.show()"
   ]
  },
  {
   "cell_type": "code",
   "execution_count": 13,
   "metadata": {},
   "outputs": [
    {
     "name": "stdout",
     "output_type": "stream",
     "text": [
      "0.160558674079\n"
     ]
    }
   ],
   "source": [
    "# Check how bad the MSE is ...\n",
    "y_bar_squared = (sum(test_y)/float(len(test_y)))**2\n",
    "print(mean_squared_error(test_y, diabetes_y_pred)/y_bar_squared)"
   ]
  },
  {
   "cell_type": "code",
   "execution_count": 14,
   "metadata": {
    "collapsed": true
   },
   "outputs": [],
   "source": [
    "# Now let's use all of the variables ...\n",
    "diabetes_X = diabetes.data"
   ]
  },
  {
   "cell_type": "code",
   "execution_count": 15,
   "metadata": {},
   "outputs": [
    {
     "name": "stdout",
     "output_type": "stream",
     "text": [
      "[[ 0.03807591  0.05068012  0.06169621  0.02187235 -0.0442235  -0.03482076\n",
      "  -0.04340085 -0.00259226  0.01990842 -0.01764613]\n",
      " [-0.00188202 -0.04464164 -0.05147406 -0.02632783 -0.00844872 -0.01916334\n",
      "   0.07441156 -0.03949338 -0.06832974 -0.09220405]]\n"
     ]
    }
   ],
   "source": [
    "print(diabetes_X[0:2])"
   ]
  },
  {
   "cell_type": "code",
   "execution_count": 16,
   "metadata": {
    "collapsed": true
   },
   "outputs": [],
   "source": [
    "# We split the dataset into Train and Test sets\n",
    "train_x, test_x, train_y, test_y = train_test_split(diabetes_X, diabetes.target,\n",
    "                                                        test_size=0.25)"
   ]
  },
  {
   "cell_type": "code",
   "execution_count": 17,
   "metadata": {
    "collapsed": true
   },
   "outputs": [],
   "source": [
    "# Create linear regression object\n",
    "regr = linear_model.LinearRegression()\n",
    "regr.fit(train_x, train_y)\n",
    "diabetes_y_pred = regr.predict(test_x)"
   ]
  },
  {
   "cell_type": "code",
   "execution_count": 18,
   "metadata": {},
   "outputs": [
    {
     "name": "stdout",
     "output_type": "stream",
     "text": [
      "Mean squared error: 3046.87\n",
      "Variance score: 0.44\n"
     ]
    }
   ],
   "source": [
    "# The mean squared error\n",
    "print(\"Mean squared error: %.2f\"\n",
    "      % mean_squared_error(test_y, diabetes_y_pred))\n",
    "# Explained variance score: 1 is perfect prediction\n",
    "print('Variance score: %.2f' % r2_score(test_y, diabetes_y_pred))"
   ]
  },
  {
   "cell_type": "code",
   "execution_count": 19,
   "metadata": {},
   "outputs": [
    {
     "name": "stdout",
     "output_type": "stream",
     "text": [
      "0.12775471361\n"
     ]
    }
   ],
   "source": [
    "# Check how bad the MSE is ...\n",
    "y_bar_squared = (sum(test_y)/float(len(test_y)))**2\n",
    "print(mean_squared_error(test_y, diabetes_y_pred)/y_bar_squared)"
   ]
  },
  {
   "cell_type": "code",
   "execution_count": 20,
   "metadata": {
    "collapsed": true
   },
   "outputs": [],
   "source": [
    "# Here we plot the residuals \n",
    "residuals = test_y - diabetes_y_pred"
   ]
  },
  {
   "cell_type": "code",
   "execution_count": 21,
   "metadata": {},
   "outputs": [
    {
     "data": {
      "image/png": "[encoded data removed]",
      "text/plain": [
       "<matplotlib.figure.Figure at 0x1ef7e682550>"
      ]
     },
     "metadata": {},
     "output_type": "display_data"
    }
   ],
   "source": [
    "# Plot outputs\n",
    "plt.scatter(diabetes_y_pred, residuals,  color='black')\n",
    "\n",
    "plt.xticks(())\n",
    "plt.yticks(())\n",
    "\n",
    "plt.show()"
   ]
  },
  {
   "cell_type": "code",
   "execution_count": 22,
   "metadata": {
    "collapsed": true
   },
   "outputs": [],
   "source": [
    "# Let's try a quadratic fit ... we need to transform the data. We use PolynomialFeatures\n",
    "from sklearn.preprocessing import PolynomialFeatures"
   ]
  },
  {
   "cell_type": "code",
   "execution_count": 23,
   "metadata": {
    "collapsed": true
   },
   "outputs": [],
   "source": [
    "# Here create the necessary test and train features for the full quadratic case\n",
    "poly = PolynomialFeatures(degree=2)\n",
    "train_x_poly = poly.fit_transform(train_x)\n",
    "test_x_poly = poly.fit_transform(test_x)"
   ]
  },
  {
   "cell_type": "code",
   "execution_count": 24,
   "metadata": {},
   "outputs": [
    {
     "name": "stdout",
     "output_type": "stream",
     "text": [
      "[[  1.00000000e+00  -2.73097857e-02  -4.46416365e-02   6.49296427e-02\n",
      "   -2.22773986e-03  -2.49601584e-02  -1.72844490e-02   2.28686348e-02\n",
      "   -3.94933829e-02  -6.11765951e-02  -6.32093012e-02   7.45824394e-04\n",
      "    1.21915353e-03  -1.77321463e-03   6.08390982e-05   6.81656577e-04\n",
      "    4.72034597e-04  -6.24537516e-04   1.07855582e-03   1.67071970e-03\n",
      "    1.72623247e-03   1.99287571e-03  -2.89856551e-03   9.94499531e-05\n",
      "    1.11426232e-03   7.71606088e-04  -1.02089328e-03   1.76304924e-03\n",
      "    2.73102332e-03   2.82176665e-03   4.21585851e-03  -1.44646353e-04\n",
      "   -1.62065417e-03  -1.12227310e-03   1.48485229e-03  -2.56429124e-03\n",
      "   -3.97217446e-03  -4.10415735e-03   4.96282489e-06   5.56047398e-05\n",
      "    3.85052560e-05  -5.09453694e-05   8.79809833e-05   1.36285539e-04\n",
      "    1.40813880e-04   6.23009508e-04   4.31422585e-04  -5.70804748e-04\n",
      "    9.85761093e-04   1.52697750e-03   1.57771417e-03   2.98752176e-04\n",
      "   -3.95271752e-04   6.82621361e-04   1.05740374e-03   1.09253794e-03\n",
      "    5.22974459e-04  -9.03159751e-04  -1.39902521e-03  -1.44551043e-03\n",
      "    1.55972729e-03   2.41607069e-03   2.49634913e-03   3.74257579e-03\n",
      "    3.86692983e-03   3.99541576e-03]]\n"
     ]
    }
   ],
   "source": [
    "print(train_x_poly[0:1])"
   ]
  },
  {
   "cell_type": "code",
   "execution_count": 25,
   "metadata": {
    "collapsed": true
   },
   "outputs": [],
   "source": [
    "# Now let's fit the model and check out results again ...\n",
    "regrPoly = linear_model.LinearRegression()\n",
    "regrPoly.fit(train_x_poly, train_y)\n",
    "diabetes_y_pred_poly = regrPoly.predict(test_x_poly)"
   ]
  },
  {
   "cell_type": "code",
   "execution_count": 26,
   "metadata": {},
   "outputs": [
    {
     "name": "stdout",
     "output_type": "stream",
     "text": [
      "Mean squared error: 4691.96\n",
      "Variance score: 0.14\n"
     ]
    }
   ],
   "source": [
    "print(\"Mean squared error: %.2f\"\n",
    "      % mean_squared_error(test_y, diabetes_y_pred_poly))\n",
    "# Explained variance score: 1 is perfect prediction\n",
    "print('Variance score: %.2f' % r2_score(test_y, diabetes_y_pred_poly))"
   ]
  },
  {
   "cell_type": "code",
   "execution_count": 27,
   "metadata": {},
   "outputs": [
    {
     "name": "stdout",
     "output_type": "stream",
     "text": [
      "0.196733194494\n"
     ]
    }
   ],
   "source": [
    "y_bar_squared = (sum(test_y)/float(len(test_y)))**2\n",
    "print(mean_squared_error(test_y, diabetes_y_pred_poly)/y_bar_squared)"
   ]
  },
  {
   "cell_type": "code",
   "execution_count": 28,
   "metadata": {
    "collapsed": true
   },
   "outputs": [],
   "source": [
    "# The error actually got worse - we overfit!\n",
    "# Finally, let's try Ridge and Lasso. We'll do Ridge first.\n",
    "regrRidge = linear_model.Ridge(alpha = .05)"
   ]
  },
  {
   "cell_type": "code",
   "execution_count": 41,
   "metadata": {
    "collapsed": true
   },
   "outputs": [],
   "source": [
    "regrRidge.fit(train_x_poly, train_y)\n",
    "diabetes_y_pred_ridge = regrRidge.predict(test_x_poly)"
   ]
  },
  {
   "cell_type": "code",
   "execution_count": 42,
   "metadata": {},
   "outputs": [
    {
     "name": "stdout",
     "output_type": "stream",
     "text": [
      "Mean squared error: 2965.92\n",
      "Variance score: 0.45\n"
     ]
    }
   ],
   "source": [
    "# The mean squared error\n",
    "print(\"Mean squared error: %.2f\"\n",
    "      % mean_squared_error(test_y, diabetes_y_pred_ridge))\n",
    "# Explained variance score: 1 is perfect prediction\n",
    "print('Variance score: %.2f' % r2_score(test_y, diabetes_y_pred_ridge))"
   ]
  },
  {
   "cell_type": "code",
   "execution_count": 43,
   "metadata": {},
   "outputs": [
    {
     "name": "stdout",
     "output_type": "stream",
     "text": [
      "0.12436057162\n"
     ]
    }
   ],
   "source": [
    "# Check how bad the MSE is ...\n",
    "y_bar_squared = (sum(test_y)/float(len(test_y)))**2\n",
    "print(mean_squared_error(test_y, diabetes_y_pred_ridge)/y_bar_squared)"
   ]
  },
  {
   "cell_type": "code",
   "execution_count": 44,
   "metadata": {},
   "outputs": [
    {
     "data": {
      "text/plain": [
       "array([  23.15152463, -265.58656521,  419.24818249,  393.26037224,\n",
       "       -663.03406657,  487.93873601,  -90.03532683,  -47.58474318,\n",
       "        797.35119328,   24.19921493])"
      ]
     },
     "execution_count": 44,
     "metadata": {},
     "output_type": "execute_result"
    }
   ],
   "source": [
    "# Let's compare the coefficients ...\n",
    "regr.coef_"
   ]
  },
  {
   "cell_type": "code",
   "execution_count": 45,
   "metadata": {},
   "outputs": [
    {
     "data": {
      "text/plain": [
       "array([  0.00000000e+00,   4.01184097e+01,  -2.39464503e+02,\n",
       "         4.19648192e+02,   3.66899790e+02,  -8.86407143e+01,\n",
       "        -6.40465830e+00,  -2.62729212e+02,   7.17304053e+00,\n",
       "         5.24997726e+02,   3.87321587e+01,   1.17292646e+02,\n",
       "         1.16009426e+02,   4.25786060e+01,   7.26872081e+01,\n",
       "         2.99420400e+01,   9.04474984e+00,  -1.87992560e+01,\n",
       "         4.80131111e+01,   8.68603311e+01,   8.30480360e+01,\n",
       "        -1.44600215e+00,   5.03293582e+01,   7.16330950e+01,\n",
       "         2.97911308e+01,  -4.32290600e+00,   2.98397997e+01,\n",
       "         1.45007060e+00,   4.25198644e+01,   3.33631388e+01,\n",
       "         8.51416838e+01,   9.02751141e+01,   2.40974519e+01,\n",
       "         3.06946100e+00,   5.93634373e-01,   7.30582210e+00,\n",
       "         7.16208212e+01,   8.26498387e+01,   3.65272190e+01,\n",
       "         4.18685920e+01,   5.27789626e+01,  -1.49428679e+01,\n",
       "         3.32386324e+01,   2.77197930e+01,   2.27067246e+01,\n",
       "         4.79862026e-01,   7.23217528e+00,   4.12023824e+01,\n",
       "        -5.17021022e+01,  -2.34105239e+01,   4.16637254e+01,\n",
       "        -8.17659373e+00,   2.15327493e+01,  -2.24254720e+01,\n",
       "         1.14719121e+01,   3.49472293e+01,   4.55910808e+00,\n",
       "         1.64129115e+01,   2.43165678e+01,   1.05028522e+00,\n",
       "        -5.34814446e+01,  -4.96973057e+01,   2.78098178e+01,\n",
       "        -2.60294745e+01,   4.49037293e+01,   5.73564055e+01])"
      ]
     },
     "execution_count": 45,
     "metadata": {},
     "output_type": "execute_result"
    }
   ],
   "source": [
    "regrRidge.coef_"
   ]
  },
  {
   "cell_type": "code",
   "execution_count": 46,
   "metadata": {
    "collapsed": true
   },
   "outputs": [],
   "source": [
    "# Not much of difference - seems all variables are important. We try Lasso ...\n",
    "regrLasso = linear_model.Lasso(alpha = .1)"
   ]
  },
  {
   "cell_type": "code",
   "execution_count": 47,
   "metadata": {
    "collapsed": true
   },
   "outputs": [],
   "source": [
    "regrLasso.fit(train_x_poly, train_y)\n",
    "diabetes_y_pred_lasso = regrLasso.predict(test_x_poly)"
   ]
  },
  {
   "cell_type": "code",
   "execution_count": 48,
   "metadata": {},
   "outputs": [
    {
     "name": "stdout",
     "output_type": "stream",
     "text": [
      "Mean squared error: 3010.02\n",
      "Variance score: 0.45\n"
     ]
    }
   ],
   "source": [
    "# The mean squared error\n",
    "print(\"Mean squared error: %.2f\"\n",
    "      % mean_squared_error(test_y, diabetes_y_pred_lasso))\n",
    "# Explained variance score: 1 is perfect prediction\n",
    "print('Variance score: %.2f' % r2_score(test_y, diabetes_y_pred_lasso))"
   ]
  },
  {
   "cell_type": "code",
   "execution_count": 49,
   "metadata": {},
   "outputs": [
    {
     "name": "stdout",
     "output_type": "stream",
     "text": [
      "0.126209446862\n"
     ]
    }
   ],
   "source": [
    "# Check how bad the MSE is ...\n",
    "y_bar_squared = (sum(test_y)/float(len(test_y)))**2\n",
    "print(mean_squared_error(test_y, diabetes_y_pred_lasso)/y_bar_squared)"
   ]
  },
  {
   "cell_type": "code",
   "execution_count": 50,
   "metadata": {},
   "outputs": [
    {
     "data": {
      "text/plain": [
       "array([   0.        ,    0.        , -190.85474124,  422.49977513,\n",
       "        355.7120898 ,  -43.54717222,   -0.        , -234.46967654,\n",
       "         -0.        ,  526.2702617 ,    0.        ,    0.        ,\n",
       "          0.        ,    0.        ,    0.        ,    0.        ,\n",
       "          0.        ,   -0.        ,    0.        ,    0.        ,\n",
       "          0.        ,   -0.        ,    0.        ,    0.        ,\n",
       "          0.        ,   -0.        ,    0.        ,   -0.        ,\n",
       "          0.        ,    0.        ,    0.        ,    0.        ,\n",
       "          0.        ,   -0.        ,   -0.        ,    0.        ,\n",
       "          0.        ,    0.        ,    0.        ,    0.        ,\n",
       "          0.        ,   -0.        ,    0.        ,    0.        ,\n",
       "          0.        ,   -0.        ,   -0.        ,    0.        ,\n",
       "         -0.        ,   -0.        ,    0.        ,   -0.        ,\n",
       "          0.        ,   -0.        ,   -0.        ,    0.        ,\n",
       "         -0.        ,    0.        ,    0.        ,   -0.        ,\n",
       "         -0.        ,   -0.        ,    0.        ,   -0.        ,\n",
       "          0.        ,    0.        ])"
      ]
     },
     "execution_count": 50,
     "metadata": {},
     "output_type": "execute_result"
    }
   ],
   "source": [
    "regrLasso.coef_"
   ]
  },
  {
   "cell_type": "code",
   "execution_count": null,
   "metadata": {
    "collapsed": true
   },
   "outputs": [],
   "source": [
    "# Lasso zeroed out some betas, but seems they are all needed."
   ]
  }
 ],
 "metadata": {
  "kernelspec": {
   "display_name": "Python 3",
   "language": "python",
   "name": "python3"
  },
  "language_info": {
   "codemirror_mode": {
    "name": "ipython",
    "version": 3
   },
   "file_extension": ".py",
   "mimetype": "text/x-python",
   "name": "python",
   "nbconvert_exporter": "python",
   "pygments_lexer": "ipython3",
   "version": "3.6.3"
  }
 },
 "nbformat": 4,
 "nbformat_minor": 2
}
